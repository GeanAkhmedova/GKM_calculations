{
 "cells": [
  {
   "cell_type": "code",
   "execution_count": 1,
   "metadata": {},
   "outputs": [],
   "source": [
    "from sage import *"
   ]
  },
  {
   "cell_type": "code",
   "execution_count": null,
   "metadata": {},
   "outputs": [],
   "source": [
    "#=\n",
    "    Pi  ->  Pj\n",
    "    \n",
    "    1. (Pi - Pj) % α = 0\n",
    "    \n",
    "    αij known\n",
    "    2. Pi - Pj = eij * αij   \n",
    "       \\sum_{C} eij * αij = 0 (*)\n",
    "        C := {cycles}\n",
    "    \n",
    "=#"
   ]
  },
  {
   "cell_type": "code",
   "execution_count": null,
   "metadata": {},
   "outputs": [],
   "source": [
    "#=\n",
    "    GKM Graph interface:\n",
    "        \n",
    "        1. has a linear-independent cycle ? \n",
    "        2. \n",
    "        3. \n",
    "        .. \n",
    "        .. \n",
    "        n. system solving - answer to Betti numbers\n",
    "            So\n",
    "=#"
   ]
  },
  {
   "cell_type": "code",
   "execution_count": 46,
   "metadata": {},
   "outputs": [
    {
     "data": {
      "text/plain": [
       "'\\n\\n    Proposal: \\n        1. implement simple system solving algorithm based on the discussion below \\n                (form system, solve each row, intersect);\\n        1,5. test the correctness of the implementations\\n        2. benchmark new approach versus the naive approach (.\\n        3. Cool!\\n\\n'"
      ]
     },
     "execution_count": 46,
     "metadata": {},
     "output_type": "execute_result"
    }
   ],
   "source": [
    "\"\"\"\n",
    "\n",
    "    Proposal: \n",
    "        1. implement simple system solving algorithm based on the discussion below \n",
    "                (form system, solve each row, intersect up to some degree);\n",
    "                            Alex                          Anton\n",
    "        1,5. test the correctness of the implementations\n",
    "        2. benchmark new approach versus the naive approach (Eugenea)\n",
    "        3. Cool!\n",
    "\n",
    "\"\"\""
   ]
  },
  {
   "cell_type": "code",
   "execution_count": 2,
   "metadata": {},
   "outputs": [],
   "source": [
    "\"\"\"\n",
    "    Input graph: \n",
    "        Vertices are anything,\n",
    "        Weights of Edges are linear Polynomials\n",
    "    \n",
    "\"\"\"\n",
    "\n",
    "\"\"\"\n",
    "    Graph  -->  System of form (*):\n",
    "    Construct system (|cycles| * |edges|) in the following way:\n",
    "        \n",
    "        |edges| is a big number.\n",
    "        \n",
    "        For each cycle (P1->P2->..->Pn) in the Graph let eij*αij = Pi - Pj.\n",
    "        Then solve \\sum_ij αij*eij = 0   for eij, resulting in a module of syzygies of {aij} \n",
    "                            j=i+1\n",
    "        Then goto the next cycle and intersect syzygy modules.\n",
    "\n",
    "            Safe to assume αij is linear.\n",
    "           e1  e2  e3    \n",
    "        |  α1  α2  α3 |       where αi is either 0 or a linear poly.\n",
    "        |             |  = 0  The number of polynomial variables is < 100.  (\\star)\n",
    "        |             |\n",
    "            ^\n",
    "            |\n",
    "        Find all vectors (e1, e2, e3)^T such that (\\star) holds. \n",
    "        To be more precise, find the dimension of (the) nullspace for \\star.\n",
    "        \n",
    "        Solving for a single matrix row:\n",
    "            (α1,  α2,  α3)\n",
    "        Find all (e1, e2, e3) - syzygy such that e1α1 + e2α2 + e3α3 = 0\n",
    "        \n",
    "        F5 algorithm for Groebner basis of (α1,α2,α3) computes these {(e1, e2, e3)} (guaranteed to compute all).\n",
    "            syzygy_module()\n",
    "        \n",
    "        Proposition: is (α1, α2, α3) already a Groebner basis ???\n",
    "            x1 + x2, x2 + x3, x3 + x4 --> All spolys reduce to zero\n",
    "            x1 + x2, x1               --> Groebner basis turns into Gaussian elimination\n",
    "            \n",
    "        After solving the system ...\n",
    "        \n",
    "        We have \"relatively fast\" way to solve a single row,\n",
    "        \"and an intersection routine of unknown efficiency\".\n",
    "           \n",
    "           x1  x2  \n",
    "        |  1    1 |  --> rref\n",
    "        |  1    0 |\n",
    "        \n",
    "        # to think, solve at once\n",
    "           x1 x2 x3 x4 x5 1      |x1|      where αi is either 0 or a linear poly.\n",
    "        |  2              3  | * |x2| = 0\n",
    "        |                    |   |x3|\n",
    "        \n",
    "        Wiedemann algorithm (m*n * (1 + ω)) where ω is the sparsity of matrix \n",
    "\"\"\"\n",
    "\n",
    "class Graph:\n",
    "    def __init__():\n",
    "        ..."
   ]
  },
  {
   "cell_type": "code",
   "execution_count": 3,
   "metadata": {},
   "outputs": [],
   "source": [
    "class System:\n",
    "    def __init__():\n",
    "        ..."
   ]
  },
  {
   "cell_type": "code",
   "execution_count": null,
   "metadata": {},
   "outputs": [],
   "source": []
  },
  {
   "cell_type": "code",
   "execution_count": 9,
   "metadata": {},
   "outputs": [],
   "source": [
    "R, (x1, x2, x3) = PolynomialRing(QQ, \"x1,x2,x3\").objgens()\n"
   ]
  },
  {
   "cell_type": "code",
   "execution_count": 32,
   "metadata": {},
   "outputs": [],
   "source": [
    "# | α1 α2   | * | e1 | = 0\n",
    "# | α'1 α'2 |   | e2 | \n",
    "# e1, e2 --- ??\n",
    "\n",
    "# I = [α1, α2]\n",
    "# E = (e1, e2) ,\n",
    "# Now, we solve E * I^T = 0 \n",
    "# E -- an array of all possible solutions\n",
    "\n",
    "I = Ideal([x1, x2, x1*x2 + x2^2])  # I = [α1, α2]"
   ]
  },
  {
   "cell_type": "code",
   "execution_count": 35,
   "metadata": {},
   "outputs": [],
   "source": [
    "ans1 = I.syzygy_module() #  size:  |solutions| \\times |initial equations|"
   ]
  },
  {
   "cell_type": "code",
   "execution_count": 36,
   "metadata": {},
   "outputs": [
    {
     "data": {
      "text/plain": [
       "[ x2  x2  -1]\n",
       "[-x2  x1   0]"
      ]
     },
     "execution_count": 36,
     "metadata": {},
     "output_type": "execute_result"
    }
   ],
   "source": [
    "ans1"
   ]
  },
  {
   "cell_type": "code",
   "execution_count": 39,
   "metadata": {},
   "outputs": [],
   "source": [
    "I2 = Ideal([x1 + x2^4, x2, x2^3])  # I = [α1, α2]\n",
    "ans2 = I2.syzygy_module() #  size:  |solutions| \\times |initial equations|"
   ]
  },
  {
   "cell_type": "code",
   "execution_count": 40,
   "metadata": {},
   "outputs": [
    {
     "data": {
      "text/plain": [
       "[   0 x2^2   -1]\n",
       "[ -x2   x1 x2^2]"
      ]
     },
     "execution_count": 40,
     "metadata": {},
     "output_type": "execute_result"
    }
   ],
   "source": [
    "ans2"
   ]
  },
  {
   "cell_type": "code",
   "execution_count": 45,
   "metadata": {},
   "outputs": [
    {
     "ename": "NameError",
     "evalue": "name 'Module' is not defined",
     "output_type": "error",
     "traceback": [
      "\u001b[0;31m---------------------------------------------------------------------------\u001b[0m",
      "\u001b[0;31mNameError\u001b[0m                                 Traceback (most recent call last)",
      "\u001b[0;32m<ipython-input-45-3f0d35c38bac>\u001b[0m in \u001b[0;36m<module>\u001b[0;34m\u001b[0m\n\u001b[0;32m----> 1\u001b[0;31m \u001b[0mModule\u001b[0m\u001b[0;34m(\u001b[0m\u001b[0;34m[\u001b[0m\u001b[0mans1\u001b[0m\u001b[0;34m[\u001b[0m\u001b[0mInteger\u001b[0m\u001b[0;34m(\u001b[0m\u001b[0;36m0\u001b[0m\u001b[0;34m)\u001b[0m\u001b[0;34m]\u001b[0m\u001b[0;34m,\u001b[0m \u001b[0mans2\u001b[0m\u001b[0;34m[\u001b[0m\u001b[0mInteger\u001b[0m\u001b[0;34m(\u001b[0m\u001b[0;36m1\u001b[0m\u001b[0;34m)\u001b[0m\u001b[0;34m]\u001b[0m\u001b[0;34m]\u001b[0m\u001b[0;34m)\u001b[0m\u001b[0;34m\u001b[0m\u001b[0;34m\u001b[0m\u001b[0m\n\u001b[0m",
      "\u001b[0;31mNameError\u001b[0m: name 'Module' is not defined"
     ]
    }
   ],
   "source": [
    "FreeModule([ans1[0], ans2[1]])"
   ]
  },
  {
   "cell_type": "code",
   "execution_count": 41,
   "metadata": {},
   "outputs": [
    {
     "ename": "NameError",
     "evalue": "name 'intersection' is not defined",
     "output_type": "error",
     "traceback": [
      "\u001b[0;31m---------------------------------------------------------------------------\u001b[0m",
      "\u001b[0;31mNameError\u001b[0m                                 Traceback (most recent call last)",
      "\u001b[0;32m<ipython-input-41-1e2905da7df6>\u001b[0m in \u001b[0;36m<module>\u001b[0;34m\u001b[0m\n\u001b[0;32m----> 1\u001b[0;31m \u001b[0mintersection\u001b[0m\u001b[0;34m(\u001b[0m\u001b[0mans1\u001b[0m\u001b[0;34m,\u001b[0m \u001b[0mans2\u001b[0m\u001b[0;34m)\u001b[0m\u001b[0;34m\u001b[0m\u001b[0;34m\u001b[0m\u001b[0m\n\u001b[0m",
      "\u001b[0;31mNameError\u001b[0m: name 'intersection' is not defined"
     ]
    }
   ],
   "source": [
    "intersection(FreeModule(ans1), ans2)"
   ]
  },
  {
   "cell_type": "code",
   "execution_count": null,
   "metadata": {},
   "outputs": [],
   "source": [
    "\"\"\"\n",
    "    I = [f1, f2, f3]\n",
    "    \n",
    "    A possible syzygy is E = (-f2, f1, 0)\n",
    "\n",
    "    E * I.T = 0\n",
    "\"\"\""
   ]
  },
  {
   "cell_type": "code",
   "execution_count": null,
   "metadata": {},
   "outputs": [],
   "source": []
  },
  {
   "cell_type": "code",
   "execution_count": null,
   "metadata": {},
   "outputs": [],
   "source": []
  }
 ],
 "metadata": {
  "kernelspec": {
   "display_name": "SageMath 9.3",
   "language": "sage",
   "name": "sagemath"
  },
  "language_info": {
   "codemirror_mode": {
    "name": "ipython",
    "version": 3
   },
   "file_extension": ".py",
   "mimetype": "text/x-python",
   "name": "python",
   "nbconvert_exporter": "python",
   "pygments_lexer": "ipython3",
   "version": "3.7.10"
  }
 },
 "nbformat": 4,
 "nbformat_minor": 4
}
