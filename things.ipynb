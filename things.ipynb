{
 "cells": [
  {
   "cell_type": "markdown",
   "metadata": {},
   "source": [
    "### Polynomials "
   ]
  },
  {
   "cell_type": "code",
   "execution_count": 41,
   "metadata": {},
   "outputs": [],
   "source": [
    "R, (x1, x2, x3) = PolynomialRing(QQ, \"x1,x2,x3\").objgens()"
   ]
  },
  {
   "cell_type": "code",
   "execution_count": 42,
   "metadata": {},
   "outputs": [
    {
     "data": {
      "text/plain": [
       "x1^2 + 2*x1*x2 + x2^2 - x3"
      ]
     },
     "execution_count": 42,
     "metadata": {},
     "output_type": "execute_result"
    }
   ],
   "source": [
    "(x1 + x2)^2 - x3"
   ]
  },
  {
   "cell_type": "code",
   "execution_count": 43,
   "metadata": {},
   "outputs": [
    {
     "data": {
      "text/plain": [
       "(0, 8, (x1, x2, x3))"
      ]
     },
     "execution_count": 43,
     "metadata": {},
     "output_type": "execute_result"
    }
   ],
   "source": [
    "R(0), R(8), R.gens()"
   ]
  },
  {
   "cell_type": "code",
   "execution_count": 44,
   "metadata": {},
   "outputs": [
    {
     "data": {
      "text/plain": [
       "<class 'sage.rings.polynomial.multi_polynomial_libsingular.MPolynomialRing_libsingular'>"
      ]
     },
     "execution_count": 44,
     "metadata": {},
     "output_type": "execute_result"
    }
   ],
   "source": [
    "type(R)"
   ]
  },
  {
   "cell_type": "markdown",
   "metadata": {},
   "source": [
    "### Matrices"
   ]
  },
  {
   "cell_type": "code",
   "execution_count": 95,
   "metadata": {},
   "outputs": [],
   "source": [
    "FR = FractionField(R)  # R // R"
   ]
  },
  {
   "cell_type": "code",
   "execution_count": 96,
   "metadata": {},
   "outputs": [],
   "source": [
    "m, n = 2, 3\n",
    "Mspace = MatrixSpace(FR, m, n)"
   ]
  },
  {
   "cell_type": "code",
   "execution_count": 97,
   "metadata": {},
   "outputs": [
    {
     "data": {
      "text/plain": [
       "<class 'sage.matrix.matrix_space.MatrixSpace_with_category'>"
      ]
     },
     "execution_count": 97,
     "metadata": {},
     "output_type": "execute_result"
    }
   ],
   "source": [
    "type(Mspace)"
   ]
  },
  {
   "cell_type": "code",
   "execution_count": 98,
   "metadata": {},
   "outputs": [],
   "source": [
    "#   a1           a2          a3\n",
    "system = Mspace([\n",
    "    x1 - x2,     R(0),       x1 - x3,\n",
    "    R(0),        x1 - x2,    x2 - x3\n",
    "])"
   ]
  },
  {
   "cell_type": "code",
   "execution_count": 99,
   "metadata": {},
   "outputs": [
    {
     "data": {
      "text/plain": [
       "[x1 - x2       0 x1 - x3]\n",
       "[      0 x1 - x2 x2 - x3]"
      ]
     },
     "execution_count": 99,
     "metadata": {},
     "output_type": "execute_result"
    }
   ],
   "source": [
    "system"
   ]
  },
  {
   "cell_type": "markdown",
   "metadata": {},
   "source": [
    "find $a_1, a_2, a_3$\n",
    "\n",
    "$$\n",
    "\\left\\{\n",
    "\\begin{aligned}\n",
    "a_1(x_1 - x_2) + a_3(x_1 - x_3) = 0\\\\\n",
    "a_2(x_1 - x_2) + a_3(x_2 - x_3) = 0\n",
    "\\end{aligned}\\right.\n",
    "$$"
   ]
  },
  {
   "cell_type": "code",
   "execution_count": 102,
   "metadata": {},
   "outputs": [
    {
     "data": {
      "text/plain": [
       "<function end at 0x6ffffe5294d0>"
      ]
     },
     "execution_count": 102,
     "metadata": {},
     "output_type": "execute_result"
    }
   ],
   "source": [
    "def find_syzygies_one(system):\n",
    "    \n",
    "    print(system.echelon_form())\n",
    "    \n",
    "    syz = system.right_kernel()\n",
    "\n",
    "    return syz\n",
    "end"
   ]
  },
  {
   "cell_type": "code",
   "execution_count": 103,
   "metadata": {},
   "outputs": [
    {
     "name": "stdout",
     "output_type": "stream",
     "text": [
      "[                  1                   0 (x1 - x3)/(x1 - x2)]\n",
      "[                  0                   1 (x2 - x3)/(x1 - x2)]\n"
     ]
    }
   ],
   "source": [
    "syz = find_syzygies_one(system)"
   ]
  },
  {
   "cell_type": "code",
   "execution_count": 242,
   "metadata": {},
   "outputs": [
    {
     "data": {
      "text/plain": [
       "Vector space of degree 3 and dimension 1 over Fraction Field of Multivariate Polynomial Ring in x1, x2, x3 over Rational Field\n",
       "Basis matrix:\n",
       "[                    1 (-x2 + x3)/(-x1 + x3)  (x1 - x2)/(-x1 + x3)]"
      ]
     },
     "execution_count": 242,
     "metadata": {},
     "output_type": "execute_result"
    }
   ],
   "source": [
    "syz  # не тривиальная (и не principal) сизигия"
   ]
  },
  {
   "cell_type": "code",
   "execution_count": 243,
   "metadata": {},
   "outputs": [
    {
     "data": {
      "text/plain": [
       "(-x1 + x3, -x2 + x3, x1 - x2)"
      ]
     },
     "execution_count": 243,
     "metadata": {},
     "output_type": "execute_result"
    }
   ],
   "source": [
    "syz.basis()[0]*(-x1 + x3)"
   ]
  },
  {
   "cell_type": "code",
   "execution_count": null,
   "metadata": {},
   "outputs": [],
   "source": []
  },
  {
   "cell_type": "markdown",
   "metadata": {},
   "source": [
    "### groebner"
   ]
  },
  {
   "cell_type": "markdown",
   "metadata": {},
   "source": [
    "$$\n",
    "\\left\\{\n",
    "\\begin{aligned}\n",
    "a_1(x_1 - x_2) + a_3(x_1 - x_3) = 0\\\\\n",
    "a_2(x_1 - x_2) + a_3(x_2 - x_3) = 0\n",
    "\\end{aligned}\\right.\n",
    "$$"
   ]
  },
  {
   "cell_type": "markdown",
   "metadata": {},
   "source": [
    "$\\{ (a_1, a_2, a_3) \\} - ?$"
   ]
  },
  {
   "cell_type": "markdown",
   "metadata": {},
   "source": [
    "Take the first equation: \n",
    "\n",
    "$$ \n",
    "a_1f_1 + a_3f_3 = 0 ~~ \\Leftrightarrow ~~ (a_1, a_2, a_3) \\cdot (f_1, f_2, f_3) = 0 \n",
    "$$\n"
   ]
  },
  {
   "cell_type": "code",
   "execution_count": 263,
   "metadata": {},
   "outputs": [],
   "source": [
    "f1 = x1 - x2\n",
    "f2 = R(0)\n",
    "f3 = x1 - x3"
   ]
  },
  {
   "cell_type": "code",
   "execution_count": 264,
   "metadata": {},
   "outputs": [],
   "source": [
    "I = ideal(f1, f3)"
   ]
  },
  {
   "cell_type": "code",
   "execution_count": 265,
   "metadata": {},
   "outputs": [
    {
     "data": {
      "text/plain": [
       "[x1 - x2, x1 - x3, x2 - x3]"
      ]
     },
     "execution_count": 265,
     "metadata": {},
     "output_type": "execute_result"
    }
   ],
   "source": [
    "G = I.groebner_basis('toy:buchberger')\n",
    "G"
   ]
  },
  {
   "cell_type": "code",
   "execution_count": 266,
   "metadata": {},
   "outputs": [
    {
     "data": {
      "text/plain": [
       "True"
      ]
     },
     "execution_count": 266,
     "metadata": {},
     "output_type": "execute_result"
    }
   ],
   "source": [
    "f4 = x2 - x3\n",
    "# f4 is -f1 + f3\n",
    "f4 == -f1 + f3"
   ]
  },
  {
   "cell_type": "markdown",
   "metadata": {},
   "source": [
    "So, (in terms of tuples) a Groebner basis is\n",
    "\n",
    "$$\n",
    "(1, 0, 0), (0, 1, 0), (0, 0, 1), \\textbf{(-1, 0, 1)}\n",
    "$$"
   ]
  },
  {
   "cell_type": "markdown",
   "metadata": {},
   "source": [
    "#### Если полином лежит в идеале $I$, то полином редуцируется к нулю с помощью базиса гребнера\n",
    "\n",
    "Say, $f_4 ~\\in ~I$ , and we know that $f_4 - (f_1 - f_3) ~\\textbf{= 0}$"
   ]
  },
  {
   "cell_type": "markdown",
   "metadata": {},
   "source": [
    "#### => Все S-полиномы редуцируются к нулю \n",
    "\n",
    "S-полиномы то есть полиномы вида $a \\cdot f_i + b \\cdot f_j$"
   ]
  },
  {
   "cell_type": "markdown",
   "metadata": {},
   "source": [
    "#### Для поиска сизигий достаточно рассмотреть только S-полиномы"
   ]
  },
  {
   "cell_type": "code",
   "execution_count": 267,
   "metadata": {},
   "outputs": [
    {
     "data": {
      "text/plain": [
       "-x2^2 + x1*x3"
      ]
     },
     "execution_count": 267,
     "metadata": {},
     "output_type": "execute_result"
    }
   ],
   "source": [
    "# spoly(f1, f4)\n",
    "spoly = x2*f1 - x1*f4  \n",
    "spoly # = x2(1, 0, 0) - x1(-1, 0, 1)"
   ]
  },
  {
   "cell_type": "code",
   "execution_count": 268,
   "metadata": {},
   "outputs": [
    {
     "data": {
      "text/plain": [
       "0"
      ]
     },
     "execution_count": 268,
     "metadata": {},
     "output_type": "execute_result"
    }
   ],
   "source": [
    "spoly + x2*f4 - x3*f1\n",
    "# нам интересны коэфы перед f4, f1\n",
    "# spoly + x2(-1, 0, 1) - x3(1, 0, 0)"
   ]
  },
  {
   "cell_type": "code",
   "execution_count": 269,
   "metadata": {},
   "outputs": [],
   "source": [
    "# (x2, 0, 0) - (-x1, 0, x1) + (-x2, 0, x2) - (x3, 0, 0)\n",
    "# is a syzygy"
   ]
  },
  {
   "cell_type": "code",
   "execution_count": 282,
   "metadata": {},
   "outputs": [],
   "source": [
    "Syz = (x1 - x3, 0, -x1 + x2)"
   ]
  },
  {
   "cell_type": "code",
   "execution_count": 283,
   "metadata": {},
   "outputs": [
    {
     "data": {
      "text/plain": [
       "0"
      ]
     },
     "execution_count": 283,
     "metadata": {},
     "output_type": "execute_result"
    }
   ],
   "source": [
    "(x1 - x3)*f1 + 0*f2 + (-x1 + x2)*f3"
   ]
  },
  {
   "cell_type": "code",
   "execution_count": null,
   "metadata": {},
   "outputs": [],
   "source": []
  },
  {
   "cell_type": "markdown",
   "metadata": {},
   "source": [
    "#### Hmm moment"
   ]
  },
  {
   "cell_type": "code",
   "execution_count": 322,
   "metadata": {},
   "outputs": [
    {
     "data": {
      "text/plain": [
       "Ambient free module of rank 3 over the integral domain Multivariate Polynomial Ring in x1, x2, x3 over Rational Field"
      ]
     },
     "execution_count": 322,
     "metadata": {},
     "output_type": "execute_result"
    }
   ],
   "source": [
    "M = FreeModule(R, 3)\n",
    "M"
   ]
  },
  {
   "cell_type": "code",
   "execution_count": 323,
   "metadata": {},
   "outputs": [
    {
     "data": {
      "text/plain": [
       "[\n",
       "(1, 0, 0),\n",
       "(0, 1, 0),\n",
       "(0, 0, 1)\n",
       "]"
      ]
     },
     "execution_count": 323,
     "metadata": {},
     "output_type": "execute_result"
    }
   ],
   "source": [
    "e = M.basis()\n",
    "e"
   ]
  },
  {
   "cell_type": "code",
   "execution_count": null,
   "metadata": {},
   "outputs": [],
   "source": []
  },
  {
   "cell_type": "code",
   "execution_count": 336,
   "metadata": {},
   "outputs": [],
   "source": [
    "# M.submodule((e[0],e[1])"
   ]
  },
  {
   "cell_type": "code",
   "execution_count": null,
   "metadata": {},
   "outputs": [],
   "source": []
  }
 ],
 "metadata": {
  "kernelspec": {
   "display_name": "SageMath 9.3",
   "language": "sage",
   "name": "sagemath"
  },
  "language_info": {
   "codemirror_mode": {
    "name": "ipython",
    "version": 3
   },
   "file_extension": ".py",
   "mimetype": "text/x-python",
   "name": "python",
   "nbconvert_exporter": "python",
   "pygments_lexer": "ipython3",
   "version": "3.7.10"
  }
 },
 "nbformat": 4,
 "nbformat_minor": 4
}
